{
 "cells": [
  {
   "cell_type": "markdown",
   "id": "838d5b26-53b4-41ac-91ae-e09f91e452c1",
   "metadata": {
    "execution": {
     "iopub.execute_input": "2023-06-09T20:52:57.069466Z",
     "iopub.status.busy": "2023-06-09T20:52:57.069247Z",
     "iopub.status.idle": "2023-06-09T20:52:57.072127Z",
     "shell.execute_reply": "2023-06-09T20:52:57.071680Z",
     "shell.execute_reply.started": "2023-06-09T20:52:57.069450Z"
    },
    "tags": []
   },
   "source": [
    "## Tutorial"
   ]
  },
  {
   "cell_type": "code",
   "execution_count": 2,
   "id": "0901540e-a586-4ccc-bdd2-981a0df853c2",
   "metadata": {
    "execution": {
     "iopub.execute_input": "2023-06-09T20:54:10.429295Z",
     "iopub.status.busy": "2023-06-09T20:54:10.428960Z",
     "iopub.status.idle": "2023-06-09T20:54:10.432639Z",
     "shell.execute_reply": "2023-06-09T20:54:10.432251Z",
     "shell.execute_reply.started": "2023-06-09T20:54:10.429276Z"
    },
    "tags": []
   },
   "outputs": [
    {
     "data": {
      "text/plain": [
       "'\\nexport SBIAS=u/cslage/calib/13144/bias_20211229\\nexport SDARK=u/cslage/calib/13144/dark_20211229\\nexport DEFECTS=u/cslage/calib/13144/defects_2011229\\n'"
      ]
     },
     "execution_count": 2,
     "metadata": {},
     "output_type": "execute_result"
    }
   ],
   "source": [
    "## Run Image Pipeline\n",
    "\n",
    "'''\n",
    "export SBIAS=u/cslage/calib/13144/bias_20211229\n",
    "export SDARK=u/cslage/calib/13144/dark_20211229\n",
    "export DEFECTS=u/cslage/calib/13144/defects_2011229\n",
    "'''"
   ]
  },
  {
   "cell_type": "code",
   "execution_count": null,
   "id": "567d8022-f340-46b1-9782-94f675ede1a8",
   "metadata": {},
   "outputs": [],
   "source": []
  }
 ],
 "metadata": {
  "kernelspec": {
   "display_name": "LSST",
   "language": "python",
   "name": "lsst"
  },
  "language_info": {
   "codemirror_mode": {
    "name": "ipython",
    "version": 3
   },
   "file_extension": ".py",
   "mimetype": "text/x-python",
   "name": "python",
   "nbconvert_exporter": "python",
   "pygments_lexer": "ipython3",
   "version": "3.10.10"
  }
 },
 "nbformat": 4,
 "nbformat_minor": 5
}
